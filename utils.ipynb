{
 "cells": [
  {
   "cell_type": "code",
   "execution_count": 1,
   "id": "8c6c3b07",
   "metadata": {},
   "outputs": [],
   "source": [
    "import pandas as pd \n",
    "from sklearn.model_selection import train_test_split\n",
    "from imblearn.over_sampling import RandomOverSampler\n",
    "from imblearn.over_sampling import SMOTE\n"
   ]
  },
  {
   "cell_type": "code",
   "execution_count": 2,
   "id": "b2302060",
   "metadata": {},
   "outputs": [],
   "source": [
    "class DataLoader():\n",
    "    def __init__(self):\n",
    "        self.data = None\n",
    "\n",
    "    def load_dataset(self, path=\"data/healthcare-dataset-stroke-data.csv\"):\n",
    "        self.data = pd.read_csv(path)\n",
    "\n",
    "    def preprocess_data(self):\n",
    "        # One-hot encode all categorical columns\n",
    "        categorical_cols = [\"gender\",\n",
    "                            \"ever_married\",\n",
    "                            \"work_type\",\n",
    "                            \"Residence_type\",\n",
    "                            \"smoking_status\"]\n",
    "        encoded = pd.get_dummies(self.data[categorical_cols], \n",
    "                                prefix=categorical_cols)\n",
    "\n",
    "        # Update data with new columns\n",
    "        self.data = pd.concat([encoded, self.data], axis=1)\n",
    "        self.data.drop(categorical_cols, axis=1, inplace=True)\n",
    "\n",
    "        # Impute missing values of BMI\n",
    "        self.data.bmi = self.data.bmi.fillna(0)\n",
    "        \n",
    "        # Drop id as it is not relevant\n",
    "        self.data.drop([\"id\"], axis=1, inplace=True)\n",
    "\n",
    "        # Standardization \n",
    "        # Usually we would standardize here and convert it back later\n",
    "        # But for simplification we will not standardize / normalize the features\n",
    "\n",
    "    def get_data_split(self):\n",
    "        X = self.data.iloc[:,:-1]\n",
    "        y = self.data.iloc[:,-1]\n",
    "        return train_test_split(X, y, test_size=0.20, random_state=2021)\n",
    "    \n",
    "    def oversample(self, X_train, y_train):\n",
    "        smote = SMOTE(random_state=42)\n",
    "\n",
    "        X_class_resampled, y_class_resampled = smote.fit_resample(X_train , y_train)\n",
    "\n",
    "        X_class_resampled.replace({False: 0, True: 1}, inplace=True)\n",
    "        y_class_resampled.replace({False:0, True:1}, inplace= True)\n",
    "        \n",
    "        return X_class_resampled, y_class_resampled\n",
    "\n"
   ]
  },
  {
   "cell_type": "code",
   "execution_count": null,
   "id": "9e2570f3",
   "metadata": {},
   "outputs": [],
   "source": []
  }
 ],
 "metadata": {
  "kernelspec": {
   "display_name": "Python 3 (ipykernel)",
   "language": "python",
   "name": "python3"
  },
  "language_info": {
   "codemirror_mode": {
    "name": "ipython",
    "version": 3
   },
   "file_extension": ".py",
   "mimetype": "text/x-python",
   "name": "python",
   "nbconvert_exporter": "python",
   "pygments_lexer": "ipython3",
   "version": "3.11.5"
  }
 },
 "nbformat": 4,
 "nbformat_minor": 5
}
