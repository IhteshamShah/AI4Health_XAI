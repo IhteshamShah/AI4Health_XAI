{
 "cells": [
  {
   "cell_type": "code",
   "execution_count": 3,
   "id": "a67e2353",
   "metadata": {},
   "outputs": [],
   "source": [
    "import warnings\n",
    "import pandas as pd\n",
    "import numpy as np\n",
    "from sklearn.model_selection import train_test_split\n",
    "import matplotlib.pyplot as plt\n",
    "from sklearn.ensemble import RandomForestClassifier\n",
    "from sklearn.metrics import precision_score, recall_score, f1_score, accuracy_score\n",
    "from interpret.blackbox import LimeTabular\n",
    "from interpret import show\n",
    "\n",
    "\n",
    "# %run (in .ipynb) is similar to import function from .py files.\n",
    "%run utils.ipynb"
   ]
  },
  {
   "cell_type": "code",
   "execution_count": 4,
   "id": "f99139c5",
   "metadata": {},
   "outputs": [
    {
     "name": "stdout",
     "output_type": "stream",
     "text": [
      "(7778, 21)\n",
      "(1022, 21)\n"
     ]
    }
   ],
   "source": [
    "# %% Load and preprocess data\n",
    "data_loader = DataLoader()\n",
    "data_loader.load_dataset()\n",
    "data_loader.preprocess_data()\n",
    "# Split the data for evaluation\n",
    "X_train, X_test, y_train, y_test = data_loader.get_data_split()\n",
    "# Oversample the train data\n",
    "X_train, y_train = data_loader.oversample(X_train, y_train)\n",
    "print(X_train.shape)\n",
    "print(X_test.shape)"
   ]
  },
  {
   "cell_type": "code",
   "execution_count": 5,
   "id": "f1c959ec",
   "metadata": {},
   "outputs": [
    {
     "name": "stdout",
     "output_type": "stream",
     "text": [
      "Number of unique labels in y_train: stroke\n",
      "0    3889\n",
      "1    3889\n",
      "Name: count, dtype: int64\n",
      "Unique unique labels in y_test: stroke\n",
      "0    972\n",
      "1     50\n",
      "Name: count, dtype: int64\n"
     ]
    }
   ],
   "source": [
    "\n",
    "print(\"Number of unique labels in y_train:\", pd.Series(y_train).value_counts())\n",
    "print(\"Unique unique labels in y_test:\", pd.Series(y_test).value_counts())\n"
   ]
  },
  {
   "cell_type": "code",
   "execution_count": 6,
   "id": "7809538a",
   "metadata": {},
   "outputs": [
    {
     "name": "stdout",
     "output_type": "stream",
     "text": [
      "F1 Score 0.5192204301075269\n",
      "Accuracy 0.9452054794520548\n",
      "Prescision 0.9157507174183769\n",
      "Recall 0.9452054794520548\n"
     ]
    }
   ],
   "source": [
    "# random forest as blackbox model\n",
    "rf = RandomForestClassifier()\n",
    "rf.fit(X_train, y_train)\n",
    "y_pred = rf.predict(X_test)\n",
    "print(f\"F1 Score {f1_score(y_test, y_pred, average='macro')}\")\n",
    "print(f\"Accuracy {accuracy_score(y_test, y_pred)}\")\n",
    "print(f\"Prescision {precision_score(y_test, y_pred, average='weighted')}\")\n",
    "print(f\"Recall {recall_score(y_test, y_pred, average='weighted')}\")\n"
   ]
  },
  {
   "cell_type": "code",
   "execution_count": 7,
   "id": "b97e9972",
   "metadata": {},
   "outputs": [
    {
     "ename": "SyntaxError",
     "evalue": "invalid syntax (1044052192.py, line 1)",
     "output_type": "error",
     "traceback": [
      "\u001b[0;36m  Cell \u001b[0;32mIn[7], line 1\u001b[0;36m\u001b[0m\n\u001b[0;31m    LIME Explainer\u001b[0m\n\u001b[0m         ^\u001b[0m\n\u001b[0;31mSyntaxError\u001b[0m\u001b[0;31m:\u001b[0m invalid syntax\n"
     ]
    }
   ],
   "source": [
    "LIME Explainer "
   ]
  },
  {
   "cell_type": "code",
   "execution_count": 8,
   "id": "4ad45235",
   "metadata": {},
   "outputs": [
    {
     "data": {
      "text/html": [
       "<!-- http://127.0.0.1:7001/6338558352/ -->\n",
       "<iframe src=\"http://127.0.0.1:7001/6338558352/\" width=100% height=800 frameBorder=\"0\"></iframe>"
      ]
     },
     "metadata": {},
     "output_type": "display_data"
    }
   ],
   "source": [
    "\n",
    "# Initilize Lime for Tabular data\n",
    "lime = LimeTabular(model=rf.predict_proba, \n",
    "                   data=X_train, \n",
    "                   random_state=1)\n",
    "# Get local explanations\n",
    "lime_local = lime.explain_local(X_test[-20:], \n",
    "                                y_test[-20:], \n",
    "                                name='LIME')\n",
    "\n",
    "show(lime_local)\n",
    "\n",
    "# %%"
   ]
  },
  {
   "cell_type": "code",
   "execution_count": null,
   "id": "440fd8d6",
   "metadata": {},
   "outputs": [],
   "source": []
  }
 ],
 "metadata": {
  "kernelspec": {
   "display_name": "Python 3 (ipykernel)",
   "language": "python",
   "name": "python3"
  },
  "language_info": {
   "codemirror_mode": {
    "name": "ipython",
    "version": 3
   },
   "file_extension": ".py",
   "mimetype": "text/x-python",
   "name": "python",
   "nbconvert_exporter": "python",
   "pygments_lexer": "ipython3",
   "version": "3.11.5"
  }
 },
 "nbformat": 4,
 "nbformat_minor": 5
}
